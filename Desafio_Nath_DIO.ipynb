{
  "nbformat": 4,
  "nbformat_minor": 0,
  "metadata": {
    "colab": {
      "provenance": [],
      "authorship_tag": "ABX9TyOlFTPHu8zt5AYTmiMmnQxW",
      "include_colab_link": true
    },
    "kernelspec": {
      "name": "python3",
      "display_name": "Python 3"
    },
    "language_info": {
      "name": "python"
    }
  },
  "cells": [
    {
      "cell_type": "markdown",
      "metadata": {
        "id": "view-in-github",
        "colab_type": "text"
      },
      "source": [
        "<a href=\"https://colab.research.google.com/github/nbartulic/Testes_Dio/blob/main/Teste_Nath_DIO.ipynb\" target=\"_parent\"><img src=\"https://colab.research.google.com/assets/colab-badge.svg\" alt=\"Open In Colab\"/></a>"
      ]
    },
    {
      "cell_type": "code",
      "execution_count": null,
      "metadata": {
        "colab": {
          "base_uri": "https://localhost:8080/"
        },
        "id": "jH8rGMfCckPw",
        "outputId": "9b8e29ba-f3ae-47f1-b435-65d5cbb151a6"
      },
      "outputs": [
        {
          "output_type": "stream",
          "name": "stdout",
          "text": [
            "Epoch 1/10\n",
            "\u001b[1m505/625\u001b[0m \u001b[32m━━━━━━━━━━━━━━━━\u001b[0m\u001b[37m━━━━\u001b[0m \u001b[1m50s\u001b[0m 422ms/step - accuracy: 0.9366 - loss: 0.1589"
          ]
        }
      ],
      "source": [
        "# Projeto de Transfer Learning: Cats vs Dogs\n",
        "# Autor: Nathália\n",
        "# Data: 2024.12.06\n",
        "# Descrição: Este projeto utiliza Transfer Learning para classificar imagens de gatos e cachorros com o dataset Cats vs Dogs da TensorFlow (Teste DIO)\n",
        "\n",
        "# ==========================\n",
        "# 1. Importação das Bibliotecas\n",
        "# ==========================\n",
        "import tensorflow as tf\n",
        "from tensorflow.keras import layers, models\n",
        "from tensorflow.keras.applications import MobileNetV2\n",
        "import tensorflow_datasets as tfds\n",
        "import matplotlib.pyplot as plt\n",
        "import numpy as np\n",
        "\n",
        "# ==========================\n",
        "# 2. Carregamento do Dataset\n",
        "# ==========================\n",
        "# Baixar o dataset Cats vs Dogs da TensorFlow\n",
        "dataset, info = tfds.load('cats_vs_dogs', with_info=True, as_supervised=True)\n",
        "train_val_dataset = dataset['train']\n",
        "\n",
        "# Dividir em treino (80%) e validação (20%)\n",
        "train_dataset = train_val_dataset.take(20000)\n",
        "val_dataset = train_val_dataset.skip(20000)\n",
        "\n",
        "# ==========================\n",
        "# 3. Pré-processamento dos Dados\n",
        "# ==========================\n",
        "# Função para redimensionar e normalizar as imagens\n",
        "def preprocess(image, label):\n",
        "    image = tf.image.resize(image, (128, 128))\n",
        "    image = image / 255.0\n",
        "    return image, label\n",
        "\n",
        "# Aplicar a função de pré-processamento\n",
        "train_dataset = train_dataset.map(preprocess).shuffle(1000).batch(32)\n",
        "val_dataset = val_dataset.map(preprocess).batch(32)\n",
        "\n",
        "# ==========================\n",
        "# 4. Construção do Modelo\n",
        "# ==========================\n",
        "# Carregar MobileNetV2 como modelo base\n",
        "base_model = MobileNetV2(input_shape=(128, 128, 3), include_top=False, weights='imagenet')\n",
        "base_model.trainable = False\n",
        "\n",
        "# Adicionar camadas personalizadas\n",
        "model = models.Sequential([\n",
        "    base_model,\n",
        "    layers.GlobalAveragePooling2D(),\n",
        "    layers.Dense(128, activation='relu'),\n",
        "    layers.Dropout(0.5),\n",
        "    layers.Dense(1, activation='sigmoid')  # Saída binária: 1 para cachorro, 0 para gato\n",
        "])\n",
        "\n",
        "# Compilar o modelo\n",
        "model.compile(optimizer='adam', loss='binary_crossentropy', metrics=['accuracy'])\n",
        "\n",
        "# ==========================\n",
        "# 5. Treinamento do Modelo\n",
        "# ==========================\n",
        "history = model.fit(\n",
        "    train_dataset,\n",
        "    validation_data=val_dataset,\n",
        "    epochs=10\n",
        ")\n",
        "\n",
        "# ==========================\n",
        "# 6. Avaliação do Modelo\n",
        "# ==========================\n",
        "# Exibir gráficos de acurácia e perda\n",
        "acc = history.history['accuracy']\n",
        "val_acc = history.history['val_accuracy']\n",
        "loss = history.history['loss']\n",
        "val_loss = history.history['val_loss']\n",
        "\n",
        "plt.figure(figsize=(8, 8))\n",
        "plt.subplot(1, 2, 1)\n",
        "plt.plot(acc, label='Acurácia Treinamento')\n",
        "plt.plot(val_acc, label='Acurácia Validação')\n",
        "plt.legend(loc='lower right')\n",
        "plt.title('Acurácia')\n",
        "\n",
        "plt.subplot(1, 2, 2)\n",
        "plt.plot(loss, label='Perda Treinamento')\n",
        "plt.plot(val_loss, label='Perda Validação')\n",
        "plt.legend(loc='upper right')\n",
        "plt.title('Perda')\n",
        "plt.show()\n",
        "\n",
        "# ==========================\n",
        "# 7. Salvar o Modelo Treinado\n",
        "# ==========================\n",
        "model.save('cats_vs_dogs_model.h5')"
      ]
    }
  ]
}
